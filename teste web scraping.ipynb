{
 "cells": [
  {
   "cell_type": "code",
   "execution_count": 2,
   "id": "da663a45",
   "metadata": {
    "scrolled": true
   },
   "outputs": [
    {
     "name": "stdout",
     "output_type": "stream",
     "text": [
      "começando...\n",
      "acessando dados..\n",
      "fazendo varredura do site...\n",
      "['', 'Apple iPhone XR Preto 64 GB 6.1\" 3 GB RAM Câmera 12 MP Selfie 7 MP', '']\n",
      "['R$                4.231,30']\n",
      "https://www.girafa.com.br//Telefonia/Apple/apple-iphone-xr-preto-64-gb-6-1-3-gb-ram-camera-12-mp-selfie-7-mp.htm\n",
      "=-=-=-=-=-=-=-=-=-=-=-=-=-=-=-=-=-=-=-=-=-=-=-=-=-=-=-=-=-=-=-=-=-=-=-=-=-=-=-=-=-=-=-=-=-=-=-=-=-=-=-=-=-=-=-=-=-=-=-=-\n",
      "['', 'Apple iPhone 12 Pro Prateado 256 GB 6.1\" 6 GB RAM Câm. Tripla 12 MP Selfie 12 MP', '']\n",
      "['R$                8.520,30']\n",
      "https://www.girafa.com.br//Telefonia/Apple/apple-iphone-12-pro-prateado-256-gb-6-1-6-gb-ram-cam-tripla-12-mp-selfie-12-mp.htm\n",
      "=-=-=-=-=-=-=-=-=-=-=-=-=-=-=-=-=-=-=-=-=-=-=-=-=-=-=-=-=-=-=-=-=-=-=-=-=-=-=-=-=-=-=-=-=-=-=-=-=-=-=-=-=-=-=-=-=-=-=-=-\n",
      "['', 'Apple iPhone 12 Preto 128 GB 6.1\" 4 GB RAM Câm. Dupla 12 MP Selfie 12 MP', '']\n",
      "['R$                6.583,69']\n",
      "https://www.girafa.com.br//Telefonia/Apple/apple-iphone-12-preto-128-gb-6-1-4-gb-ram-cam-dupla-12-mp-selfie-12-mp.htm\n",
      "=-=-=-=-=-=-=-=-=-=-=-=-=-=-=-=-=-=-=-=-=-=-=-=-=-=-=-=-=-=-=-=-=-=-=-=-=-=-=-=-=-=-=-=-=-=-=-=-=-=-=-=-=-=-=-=-=-=-=-=-\n"
     ]
    },
    {
     "name": "stderr",
     "output_type": "stream",
     "text": [
      "C:\\Users\\jonat\\AppData\\Local\\Temp/ipykernel_3112/2297736847.py:20: DeprecationWarning: find_element_by_* commands are deprecated. Please use find_element() instead\n",
      "  div_main = nav.find_element_by_xpath('//*[@id=\"lista-produtos\"]')\n"
     ]
    },
    {
     "name": "stdout",
     "output_type": "stream",
     "text": [
      "['', 'Apple iPhone 12 Pro Dourado 256 GB 6.1\" 6 GB RAM Câm. Tripla 12 MP Selfie 12 MP', '']\n",
      "['R$                9.448,20']\n",
      "https://www.girafa.com.br//Telefonia/Apple/apple-iphone-12-pro-dourado-256-gb-6-1-6-gb-ram-cam-tripla-12-mp-selfie-12-mp.htm\n",
      "=-=-=-=-=-=-=-=-=-=-=-=-=-=-=-=-=-=-=-=-=-=-=-=-=-=-=-=-=-=-=-=-=-=-=-=-=-=-=-=-=-=-=-=-=-=-=-=-=-=-=-=-=-=-=-=-=-=-=-=-\n",
      "['', 'Apple iPhone 12 Pro Max Azul Pacífico 128 GB 6.7\" 6 GB RAM Câm. Tripla 12 MP Selfie 12 MP', '']\n",
      "['R$                9.448,20']\n",
      "https://www.girafa.com.br//Telefonia/Apple/apple-iphone-12-pro-max-azul-pacifico-128-gb-6-7-6-gb-ram-cam-tripla-12-mp-selfie-12-mp.htm\n",
      "=-=-=-=-=-=-=-=-=-=-=-=-=-=-=-=-=-=-=-=-=-=-=-=-=-=-=-=-=-=-=-=-=-=-=-=-=-=-=-=-=-=-=-=-=-=-=-=-=-=-=-=-=-=-=-=-=-=-=-=-\n",
      "['', 'Apple iPhone 12 Pro Max Azul Pacífico 512 GB 6.7\" 6 GB RAM Câm. Tripla 12 MP Selfie 12 MP', '']\n",
      "['R$                10.874,23']\n",
      "https://www.girafa.com.br//Telefonia/Apple/apple-iphone-12-pro-max-azul-pacifico-512-gb-6-7-6-gb-ram-cam-tripla-12-mp-selfie-12-mp.htm\n",
      "=-=-=-=-=-=-=-=-=-=-=-=-=-=-=-=-=-=-=-=-=-=-=-=-=-=-=-=-=-=-=-=-=-=-=-=-=-=-=-=-=-=-=-=-=-=-=-=-=-=-=-=-=-=-=-=-=-=-=-=-\n",
      "['', 'Apple iPhone 12 Pro Max Grafite 512 GB 6.7\" 6 GB RAM Câm. Tripla 12 MP Selfie 12 MP', '']\n",
      "['R$                10.874,23']\n",
      "https://www.girafa.com.br//Telefonia/Apple/apple-iphone-12-pro-max-grafite-512-gb-6-7-6-gb-ram-cam-tripla-12-mp-selfie-12-mp.htm\n",
      "=-=-=-=-=-=-=-=-=-=-=-=-=-=-=-=-=-=-=-=-=-=-=-=-=-=-=-=-=-=-=-=-=-=-=-=-=-=-=-=-=-=-=-=-=-=-=-=-=-=-=-=-=-=-=-=-=-=-=-=-\n",
      "['', 'Apple iPhone 12 Azul 128 GB 6.1\" 4 GB RAM Câm. Dupla 12 MP Selfie 12 MP', '']\n",
      "['R$                7.199,01']\n",
      "https://www.girafa.com.br//Telefonia/Apple/apple-iphone-12-azul-128-gb-6-1-4-gb-ram-cam-dupla-12-mp-selfie-12-mp.htm\n",
      "=-=-=-=-=-=-=-=-=-=-=-=-=-=-=-=-=-=-=-=-=-=-=-=-=-=-=-=-=-=-=-=-=-=-=-=-=-=-=-=-=-=-=-=-=-=-=-=-=-=-=-=-=-=-=-=-=-=-=-=-\n",
      "['', 'Apple iPhone 12 mini Branco 128 GB 5.4\" 4 GB RAM Câm. Dupla 12 MP Selfie 12 MP', '']\n",
      "['R$                5.825,12']\n",
      "https://www.girafa.com.br//Telefonia/Apple/apple-iphone-12-mini-branco-128-gb-5-4-4-gb-ram-cam-dupla-12-mp-selfie-12-mp.htm\n",
      "=-=-=-=-=-=-=-=-=-=-=-=-=-=-=-=-=-=-=-=-=-=-=-=-=-=-=-=-=-=-=-=-=-=-=-=-=-=-=-=-=-=-=-=-=-=-=-=-=-=-=-=-=-=-=-=-=-=-=-=-\n",
      "['', 'Apple iPhone 12 mini Branco 256 GB 5.4\" 4 GB RAM Câm. Dupla 12 MP Selfie 12 MP', '']\n",
      "['R$                6.565,48']\n",
      "https://www.girafa.com.br//Telefonia/Apple/apple-iphone-12-mini-branco-256-gb-5-4-4-gb-ram-cam-dupla-12-mp-selfie-12-mp.htm\n",
      "=-=-=-=-=-=-=-=-=-=-=-=-=-=-=-=-=-=-=-=-=-=-=-=-=-=-=-=-=-=-=-=-=-=-=-=-=-=-=-=-=-=-=-=-=-=-=-=-=-=-=-=-=-=-=-=-=-=-=-=-\n",
      "['', 'Apple iPhone 12 Preto 64 GB 6.1\" 4 GB RAM Câm. Dupla 12 MP Selfie 12 MP', '']\n",
      "['R$                6.196,38']\n",
      "https://www.girafa.com.br//Telefonia/Apple/apple-iphone-12-preto-64-gb-6-1-4-gb-ram-cam-dupla-12-mp-selfie-12-mp.htm\n",
      "=-=-=-=-=-=-=-=-=-=-=-=-=-=-=-=-=-=-=-=-=-=-=-=-=-=-=-=-=-=-=-=-=-=-=-=-=-=-=-=-=-=-=-=-=-=-=-=-=-=-=-=-=-=-=-=-=-=-=-=-\n",
      "['', 'Apple iPhone 12 Pro Max Grafite 256 GB 6.7\" 6 GB RAM Câm. Tripla 12 MP Selfie 12 MP', '']\n",
      "['R$                9.294,93']\n",
      "https://www.girafa.com.br//Telefonia/Apple/apple-iphone-12-pro-max-grafite-256-gb-6-7-6-gb-ram-cam-tripla-12-mp-selfie-12-mp.htm\n",
      "=-=-=-=-=-=-=-=-=-=-=-=-=-=-=-=-=-=-=-=-=-=-=-=-=-=-=-=-=-=-=-=-=-=-=-=-=-=-=-=-=-=-=-=-=-=-=-=-=-=-=-=-=-=-=-=-=-=-=-=-\n",
      "tarefa finalizada!\n",
      "==========================================================================================\n"
     ]
    }
   ],
   "source": [
    "from bs4 import BeautifulSoup\n",
    "from time import sleep\n",
    "from selenium import webdriver\n",
    "from selenium.webdriver.chrome.options import Options\n",
    "from selenium.webdriver.common.by import By\n",
    "import pandas as pd\n",
    "\n",
    "print ('começando...')\n",
    "url_girafa= ('https://www.girafa.com.br/')\n",
    "url = 'https://www.girafa.com.br/pesquisa/busca/?q=iphone+11'\n",
    "print('abrindo navegador...')\n",
    "\n",
    "try:\n",
    "    option = Options()\n",
    "    option.headless = True\n",
    "    nav = webdriver.Chrome(options = option)\n",
    "    nav.get(url)\n",
    "    sleep(5)\n",
    "    print('acessando dados..')\n",
    "    div_main = nav.find_element(By.XPATH, '//*[@id=\"lista-produtos\"]')\n",
    "    print('fazendo varredura do site...')\n",
    "    conteudo= div_main.get_attribute('outerHTML')\n",
    "    soup = BeautifulSoup(conteudo, 'html.parser' )\n",
    "    #print (soup.prettify)\n",
    "except:\n",
    "    print ('erro!')\n",
    "    \n",
    "lista_produtoshtml= soup.find_all('div', class_=\"informacao-produto\" )\n",
    "dados_iphone =[]\n",
    "for dados in lista_produtoshtml :\n",
    "    produto = dados.find('h2')\n",
    "    produto = [produtos.text.replace(\"'\\n\", \"\").strip() for produtos in produto]\n",
    "    print (produto)\n",
    "    preços= dados.find('span',class_=\"valor-vista\")\n",
    "    preços= [p.text.replace(\"\\n\", \"\").strip() for p in preços]\n",
    "    print (preços)\n",
    "    l= dados.find( \"a\", href=True)\n",
    "    link=(url_girafa+l['href'])\n",
    "    print (link)\n",
    "    print ('=-=-'*30)\n",
    "    \n",
    "    \n",
    "    \n",
    "    dados_iphone.append([produto, preços, link])\n",
    "  \n",
    "\n",
    "print('tarefa finalizada!')\n",
    "print('=='*45) \n"
   ]
  },
  {
   "cell_type": "code",
   "execution_count": 157,
   "id": "e843817d",
   "metadata": {
    "scrolled": true
   },
   "outputs": [
    {
     "name": "stdout",
     "output_type": "stream",
     "text": [
      "12\n",
      "==================================================\n"
     ]
    }
   ],
   "source": [
    "print(len (dados_iphone))\n",
    "print('='*50)\n",
    "iphone_girafa = pd.DataFrame(dados_iphone, columns= ['modelo', 'preço', 'link'])\n",
    "print(iphone_girafa)\n",
    "iphone_girafa.to_csv('iphone_girafa.csv', index=False)"
   ]
  },
  {
   "cell_type": "markdown",
   "id": "09523b24",
   "metadata": {},
   "source": [
    "display(iphone_girafa\n",
    "       )"
   ]
  },
  {
   "cell_type": "code",
   "execution_count": null,
   "id": "4964294d",
   "metadata": {},
   "outputs": [],
   "source": []
  }
 ],
 "metadata": {
  "kernelspec": {
   "display_name": "Python 3 (ipykernel)",
   "language": "python",
   "name": "python3"
  },
  "language_info": {
   "codemirror_mode": {
    "name": "ipython",
    "version": 3
   },
   "file_extension": ".py",
   "mimetype": "text/x-python",
   "name": "python",
   "nbconvert_exporter": "python",
   "pygments_lexer": "ipython3",
   "version": "3.9.7"
  }
 },
 "nbformat": 4,
 "nbformat_minor": 5
}
