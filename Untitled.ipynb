{
 "cells": [
  {
   "cell_type": "code",
   "execution_count": 5,
   "id": "b04681b8",
   "metadata": {},
   "outputs": [
    {
     "name": "stdout",
     "output_type": "stream",
     "text": [
      "abrindo navegador...\n",
      "acessando o site desejado...\n",
      "fazendo  o login no site...\n",
      "login efetuado com sucesso!\n",
      "fazendo a pesquisa...\n",
      "acessando dados deste perfil...\n",
      "buscando informações...\n",
      "[['1.018', '22,5milhões', '1.070']]\n",
      "buscando contas que em seguindo...\n",
      "[['https://www.instagram.com/posty119/'], ['https://www.instagram.com/the_real_hood_baby__1723/'], ['https://www.instagram.com/palmisonliz2020/'], ['https://www.instagram.com/vtxriia/'], ['https://www.instagram.com/sciannisarah/'], ['https://www.instagram.com/helenascandolara/'], ['https://www.instagram.com/shadab_farohk/'], ['https://www.instagram.com/jaafar__ghadeer/'], ['https://www.instagram.com/postmalones_cigarettes/'], ['https://www.instagram.com/ana__soberba/'], ['https://www.instagram.com/jclare_1992_hugo/'], ['https://www.instagram.com/lara.campos.l.c/']]\n",
      "Tarefa finalizada.\n"
     ]
    }
   ],
   "source": [
    "from selenium import webdriver\n",
    "from selenium.webdriver.chrome.options import Options\n",
    "from selenium.webdriver.common.keys import Keys\n",
    "from selenium.webdriver.common.by import By\n",
    "from time import sleep\n",
    "from bs4 import BeautifulSoup\n",
    "import json\n",
    "\n",
    "print ('abrindo navegador...')\n",
    "option = Options()\n",
    "option.add_experimental_option(\"excludeSwitches\" , [\"enable-automation\",\"load-extension\"])\n",
    "nav = webdriver.Chrome()\n",
    "print('acessando o site desejado...')\n",
    "nav.get('https://www.instagram.com')\n",
    "sleep(5)\n",
    "print('fazendo  o login no site...')\n",
    "usuario = nav.find_element(By.XPATH , '//*[@id=\"loginForm\"]/div/div[1]/div/label/input').send_keys('hayama.mkt')\n",
    "senha = nav.find_element(By.XPATH , '//*[@id=\"loginForm\"]/div/div[2]/div/label/input').send_keys('3144_8144temaki.')\n",
    "entrar = nav.find_element(By.XPATH , '//*[@id=\"loginForm\"]/div/div[3]').click()\n",
    "print ('login efetuado com sucesso!')\n",
    "sleep(5)\n",
    "agora_nao = nav.find_element(By.XPATH , '//*[@id=\"react-root\"]/section/main/div/div/div/div/button').click()\n",
    "sleep(7)\n",
    "agora_nao2 = nav.find_element(By.XPATH , '//button[contains(text(), \"Agora não\")]').click()\n",
    "print('fazendo a pesquisa...')\n",
    "sleep(5)\n",
    "\n",
    "pesquisa = nav.find_element(By.XPATH , '//*[@id=\"react-root\"]/section/nav/div[2]/div/div/div[2]/input').send_keys('postmalone')\n",
    "sleep(10)\n",
    "click_pesquisar = nav.find_element(By.XPATH , '//*[@id=\"react-root\"]/section/nav/div[2]/div/div/div[2]/input').send_keys(Keys.ENTER, Keys.ENTER)\n",
    "sleep(3)\n",
    "print('acessando dados deste perfil...')\n",
    "sleep(5)\n",
    "html_content= nav.find_element (By.XPATH , '//*[@id=\"react-root\"]')\n",
    "conteudo = html_content.get_attribute('outerHTML')\n",
    "sleep(5)\n",
    "soup= BeautifulSoup(conteudo, 'html.parser')\n",
    "sleep(5)\n",
    "print('buscando informações...')\n",
    "ul = soup.find( 'ul')\n",
    "spans = ul.findAll('span')\n",
    "followers_insta = []\n",
    "\n",
    "publicações = spans[1].text\n",
    "seguidores = spans[2].text\n",
    "seguindo = spans[3].text\n",
    "followers_insta.append([ publicações , seguidores , seguindo])\n",
    "\n",
    "print (dados)\n",
    "\n",
    "print('buscando contas que em seguindo...')\n",
    "click_seguindo = nav.find_element(By.XPATH,\"//a[contains(@href, '/following')]\").click()\n",
    "sleep(2)\n",
    "users_link = []\n",
    "html2 = nav.find_element(By.XPATH , '/html/body/div[6]/div')\n",
    "users = html2.find_elements(By.TAG_NAME , \"li\")\n",
    "for user in users:\n",
    "    user = user.find_element(By.TAG_NAME , \"a\").get_attribute(\"href\")\n",
    "    print(user)\n",
    "    users_link.append([user])\n",
    "    \n",
    "\n",
    "    \n",
    "print ('Tarefa finalizada.')\n",
    "\n",
    "\n"
   ]
  },
  {
   "cell_type": "code",
   "execution_count": 21,
   "id": "4a4e4c7c",
   "metadata": {},
   "outputs": [
    {
     "name": "stdout",
     "output_type": "stream",
     "text": [
      "[['1.018', '22,5milhões', '1.070']]\n"
     ]
    }
   ],
   "source": [
    "dados = []\n",
    "\n",
    "publicações = spans[1].text\n",
    "seguidores = spans[2].text\n",
    "seguindo = spans[3].text\n",
    "dados.append([ publicações , seguidores , seguindo])\n",
    "\n",
    "print (dados)\n",
    "    "
   ]
  },
  {
   "cell_type": "code",
   "execution_count": 22,
   "id": "faa0a1be",
   "metadata": {
    "scrolled": true
   },
   "outputs": [
    {
     "name": "stdout",
     "output_type": "stream",
     "text": [
      "<selenium.webdriver.remote.webelement.WebElement (session=\"1402bc12c21fa6c91de88c644c492bbe\", element=\"d7e27047-d60c-4a9a-983b-83e3daebdde3\")>\n"
     ]
    }
   ],
   "source": [
    "title = ul.findAll('title')\n",
    "print (html2)"
   ]
  },
  {
   "cell_type": "code",
   "execution_count": 2,
   "id": "d74b1bf9",
   "metadata": {
    "scrolled": true
   },
   "outputs": [],
   "source": [
    "#procurando usernames de seguindo;\n",
    "\n",
    "click_seguindo = nav.find_element(By.XPATH,\"//a[contains(@href, '/following')]\").click()\n",
    "sleep(2)\n",
    "\n",
    "#nav.execute_script(\"scrollTo(0, 250)\", click_seguindo)\n",
    "html2 = nav.find_element(By.XPATH , '/html/body/div[6]/div')\n",
    "\n"
   ]
  },
  {
   "cell_type": "code",
   "execution_count": 3,
   "id": "2c9869e5",
   "metadata": {},
   "outputs": [
    {
     "name": "stdout",
     "output_type": "stream",
     "text": [
      "https://www.instagram.com/wizards_magic/\n",
      "https://www.instagram.com/tradingpostapparel/\n",
      "https://www.instagram.com/gordongram/\n",
      "https://www.instagram.com/tanumuino/\n",
      "https://www.instagram.com/jagermeisterusa/\n",
      "https://www.instagram.com/itsremble/\n",
      "https://www.instagram.com/rodwave/\n",
      "https://www.instagram.com/londonent/\n",
      "https://www.instagram.com/electricfeelent/\n",
      "https://www.instagram.com/siberiahills/\n",
      "https://www.instagram.com/dennyhamlin/\n",
      "https://www.instagram.com/bubbawallace/\n"
     ]
    }
   ],
   "source": [
    "\n",
    "users = html2.find_elements(By.TAG_NAME , \"li\")\n",
    "\n",
    "\n",
    "for user in users:\n",
    "    user = user.find_element(By.TAG_NAME , \"a\").get_attribute(\"href\")\n",
    "    print (user)"
   ]
  }
 ],
 "metadata": {
  "kernelspec": {
   "display_name": "Python 3 (ipykernel)",
   "language": "python",
   "name": "python3"
  },
  "language_info": {
   "codemirror_mode": {
    "name": "ipython",
    "version": 3
   },
   "file_extension": ".py",
   "mimetype": "text/x-python",
   "name": "python",
   "nbconvert_exporter": "python",
   "pygments_lexer": "ipython3",
   "version": "3.9.7"
  }
 },
 "nbformat": 4,
 "nbformat_minor": 5
}
